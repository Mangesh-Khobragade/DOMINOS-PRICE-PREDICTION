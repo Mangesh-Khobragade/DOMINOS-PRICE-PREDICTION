{
 "cells": [
  {
   "cell_type": "code",
   "execution_count": 167,
   "metadata": {},
   "outputs": [],
   "source": [
    "import pandas as pd\n",
    "import numpy as np\n",
    "import matplotlib.pyplot as plt\n",
    "from statsmodels.tsa.arima.model import ARIMA\n",
    "from sklearn.metrics import mean_absolute_percentage_error\n",
    "import seaborn as sns"
   ]
  },
  {
   "cell_type": "code",
   "execution_count": 18,
   "metadata": {},
   "outputs": [
    {
     "data": {
      "text/html": [
       "<div>\n",
       "<style scoped>\n",
       "    .dataframe tbody tr th:only-of-type {\n",
       "        vertical-align: middle;\n",
       "    }\n",
       "\n",
       "    .dataframe tbody tr th {\n",
       "        vertical-align: top;\n",
       "    }\n",
       "\n",
       "    .dataframe thead th {\n",
       "        text-align: right;\n",
       "    }\n",
       "</style>\n",
       "<table border=\"1\" class=\"dataframe\">\n",
       "  <thead>\n",
       "    <tr style=\"text-align: right;\">\n",
       "      <th></th>\n",
       "      <th>pizza_id</th>\n",
       "      <th>order_id</th>\n",
       "      <th>pizza_name_id</th>\n",
       "      <th>quantity</th>\n",
       "      <th>order_date</th>\n",
       "      <th>order_time</th>\n",
       "      <th>unit_price</th>\n",
       "      <th>total_price</th>\n",
       "      <th>pizza_size</th>\n",
       "      <th>pizza_category</th>\n",
       "      <th>pizza_ingredients</th>\n",
       "      <th>pizza_name</th>\n",
       "    </tr>\n",
       "  </thead>\n",
       "  <tbody>\n",
       "    <tr>\n",
       "      <th>0</th>\n",
       "      <td>1</td>\n",
       "      <td>1</td>\n",
       "      <td>hawaiian_m</td>\n",
       "      <td>1</td>\n",
       "      <td>1/1/2015</td>\n",
       "      <td>11:38:36</td>\n",
       "      <td>13.25</td>\n",
       "      <td>13.25</td>\n",
       "      <td>M</td>\n",
       "      <td>Classic</td>\n",
       "      <td>Sliced Ham, Pineapple, Mozzarella Cheese</td>\n",
       "      <td>The Hawaiian Pizza</td>\n",
       "    </tr>\n",
       "    <tr>\n",
       "      <th>1</th>\n",
       "      <td>2</td>\n",
       "      <td>2</td>\n",
       "      <td>classic_dlx_m</td>\n",
       "      <td>1</td>\n",
       "      <td>1/1/2015</td>\n",
       "      <td>11:57:40</td>\n",
       "      <td>16.00</td>\n",
       "      <td>16.00</td>\n",
       "      <td>M</td>\n",
       "      <td>Classic</td>\n",
       "      <td>Pepperoni, Mushrooms, Red Onions, Red Peppers,...</td>\n",
       "      <td>The Classic Deluxe Pizza</td>\n",
       "    </tr>\n",
       "    <tr>\n",
       "      <th>2</th>\n",
       "      <td>3</td>\n",
       "      <td>2</td>\n",
       "      <td>five_cheese_l</td>\n",
       "      <td>1</td>\n",
       "      <td>1/1/2015</td>\n",
       "      <td>11:57:40</td>\n",
       "      <td>18.50</td>\n",
       "      <td>18.50</td>\n",
       "      <td>L</td>\n",
       "      <td>Veggie</td>\n",
       "      <td>Mozzarella Cheese, Provolone Cheese, Smoked Go...</td>\n",
       "      <td>The Five Cheese Pizza</td>\n",
       "    </tr>\n",
       "    <tr>\n",
       "      <th>3</th>\n",
       "      <td>4</td>\n",
       "      <td>2</td>\n",
       "      <td>ital_supr_l</td>\n",
       "      <td>1</td>\n",
       "      <td>1/1/2015</td>\n",
       "      <td>11:57:40</td>\n",
       "      <td>20.75</td>\n",
       "      <td>20.75</td>\n",
       "      <td>L</td>\n",
       "      <td>Supreme</td>\n",
       "      <td>Calabrese Salami, Capocollo, Tomatoes, Red Oni...</td>\n",
       "      <td>The Italian Supreme Pizza</td>\n",
       "    </tr>\n",
       "    <tr>\n",
       "      <th>4</th>\n",
       "      <td>5</td>\n",
       "      <td>2</td>\n",
       "      <td>mexicana_m</td>\n",
       "      <td>1</td>\n",
       "      <td>1/1/2015</td>\n",
       "      <td>11:57:40</td>\n",
       "      <td>16.00</td>\n",
       "      <td>16.00</td>\n",
       "      <td>M</td>\n",
       "      <td>Veggie</td>\n",
       "      <td>Tomatoes, Red Peppers, Jalapeno Peppers, Red O...</td>\n",
       "      <td>The Mexicana Pizza</td>\n",
       "    </tr>\n",
       "    <tr>\n",
       "      <th>5</th>\n",
       "      <td>6</td>\n",
       "      <td>2</td>\n",
       "      <td>thai_ckn_l</td>\n",
       "      <td>1</td>\n",
       "      <td>1/1/2015</td>\n",
       "      <td>11:57:40</td>\n",
       "      <td>20.75</td>\n",
       "      <td>20.75</td>\n",
       "      <td>L</td>\n",
       "      <td>Chicken</td>\n",
       "      <td>Chicken, Pineapple, Tomatoes, Red Peppers, Tha...</td>\n",
       "      <td>The Thai Chicken Pizza</td>\n",
       "    </tr>\n",
       "    <tr>\n",
       "      <th>6</th>\n",
       "      <td>7</td>\n",
       "      <td>3</td>\n",
       "      <td>ital_supr_m</td>\n",
       "      <td>1</td>\n",
       "      <td>1/1/2015</td>\n",
       "      <td>12:12:28</td>\n",
       "      <td>16.50</td>\n",
       "      <td>16.50</td>\n",
       "      <td>M</td>\n",
       "      <td>Supreme</td>\n",
       "      <td>Calabrese Salami, Capocollo, Tomatoes, Red Oni...</td>\n",
       "      <td>The Italian Supreme Pizza</td>\n",
       "    </tr>\n",
       "    <tr>\n",
       "      <th>7</th>\n",
       "      <td>8</td>\n",
       "      <td>3</td>\n",
       "      <td>prsc_argla_l</td>\n",
       "      <td>1</td>\n",
       "      <td>1/1/2015</td>\n",
       "      <td>12:12:28</td>\n",
       "      <td>20.75</td>\n",
       "      <td>20.75</td>\n",
       "      <td>L</td>\n",
       "      <td>Supreme</td>\n",
       "      <td>Prosciutto di San Daniele, Arugula, Mozzarella...</td>\n",
       "      <td>The Prosciutto and Arugula Pizza</td>\n",
       "    </tr>\n",
       "    <tr>\n",
       "      <th>8</th>\n",
       "      <td>9</td>\n",
       "      <td>4</td>\n",
       "      <td>ital_supr_m</td>\n",
       "      <td>1</td>\n",
       "      <td>1/1/2015</td>\n",
       "      <td>12:16:31</td>\n",
       "      <td>16.50</td>\n",
       "      <td>16.50</td>\n",
       "      <td>M</td>\n",
       "      <td>Supreme</td>\n",
       "      <td>Calabrese Salami, Capocollo, Tomatoes, Red Oni...</td>\n",
       "      <td>The Italian Supreme Pizza</td>\n",
       "    </tr>\n",
       "    <tr>\n",
       "      <th>9</th>\n",
       "      <td>10</td>\n",
       "      <td>5</td>\n",
       "      <td>ital_supr_m</td>\n",
       "      <td>1</td>\n",
       "      <td>1/1/2015</td>\n",
       "      <td>12:21:30</td>\n",
       "      <td>16.50</td>\n",
       "      <td>16.50</td>\n",
       "      <td>M</td>\n",
       "      <td>Supreme</td>\n",
       "      <td>Calabrese Salami, Capocollo, Tomatoes, Red Oni...</td>\n",
       "      <td>The Italian Supreme Pizza</td>\n",
       "    </tr>\n",
       "  </tbody>\n",
       "</table>\n",
       "</div>"
      ],
      "text/plain": [
       "   pizza_id  order_id  pizza_name_id  quantity order_date order_time  \\\n",
       "0         1         1     hawaiian_m         1   1/1/2015   11:38:36   \n",
       "1         2         2  classic_dlx_m         1   1/1/2015   11:57:40   \n",
       "2         3         2  five_cheese_l         1   1/1/2015   11:57:40   \n",
       "3         4         2    ital_supr_l         1   1/1/2015   11:57:40   \n",
       "4         5         2     mexicana_m         1   1/1/2015   11:57:40   \n",
       "5         6         2     thai_ckn_l         1   1/1/2015   11:57:40   \n",
       "6         7         3    ital_supr_m         1   1/1/2015   12:12:28   \n",
       "7         8         3   prsc_argla_l         1   1/1/2015   12:12:28   \n",
       "8         9         4    ital_supr_m         1   1/1/2015   12:16:31   \n",
       "9        10         5    ital_supr_m         1   1/1/2015   12:21:30   \n",
       "\n",
       "   unit_price  total_price pizza_size pizza_category  \\\n",
       "0       13.25        13.25          M        Classic   \n",
       "1       16.00        16.00          M        Classic   \n",
       "2       18.50        18.50          L         Veggie   \n",
       "3       20.75        20.75          L        Supreme   \n",
       "4       16.00        16.00          M         Veggie   \n",
       "5       20.75        20.75          L        Chicken   \n",
       "6       16.50        16.50          M        Supreme   \n",
       "7       20.75        20.75          L        Supreme   \n",
       "8       16.50        16.50          M        Supreme   \n",
       "9       16.50        16.50          M        Supreme   \n",
       "\n",
       "                                   pizza_ingredients  \\\n",
       "0           Sliced Ham, Pineapple, Mozzarella Cheese   \n",
       "1  Pepperoni, Mushrooms, Red Onions, Red Peppers,...   \n",
       "2  Mozzarella Cheese, Provolone Cheese, Smoked Go...   \n",
       "3  Calabrese Salami, Capocollo, Tomatoes, Red Oni...   \n",
       "4  Tomatoes, Red Peppers, Jalapeno Peppers, Red O...   \n",
       "5  Chicken, Pineapple, Tomatoes, Red Peppers, Tha...   \n",
       "6  Calabrese Salami, Capocollo, Tomatoes, Red Oni...   \n",
       "7  Prosciutto di San Daniele, Arugula, Mozzarella...   \n",
       "8  Calabrese Salami, Capocollo, Tomatoes, Red Oni...   \n",
       "9  Calabrese Salami, Capocollo, Tomatoes, Red Oni...   \n",
       "\n",
       "                         pizza_name  \n",
       "0                The Hawaiian Pizza  \n",
       "1          The Classic Deluxe Pizza  \n",
       "2             The Five Cheese Pizza  \n",
       "3         The Italian Supreme Pizza  \n",
       "4                The Mexicana Pizza  \n",
       "5            The Thai Chicken Pizza  \n",
       "6         The Italian Supreme Pizza  \n",
       "7  The Prosciutto and Arugula Pizza  \n",
       "8         The Italian Supreme Pizza  \n",
       "9         The Italian Supreme Pizza  "
      ]
     },
     "execution_count": 18,
     "metadata": {},
     "output_type": "execute_result"
    }
   ],
   "source": [
    "\n",
    "df = pd.read_csv(r'C:/Users/HP/Desktop/MY PROJECTS/MINI PROJECT/Pizza_Sale - pizza_sales.csv')\n",
    "df.head(10)"
   ]
  },
  {
   "cell_type": "code",
   "execution_count": 23,
   "metadata": {},
   "outputs": [
    {
     "name": "stdout",
     "output_type": "stream",
     "text": [
      "<class 'pandas.core.frame.DataFrame'>\n",
      "RangeIndex: 48620 entries, 0 to 48619\n",
      "Data columns (total 12 columns):\n",
      " #   Column             Non-Null Count  Dtype  \n",
      "---  ------             --------------  -----  \n",
      " 0   pizza_id           48620 non-null  int64  \n",
      " 1   order_id           48620 non-null  int64  \n",
      " 2   pizza_name_id      48604 non-null  object \n",
      " 3   quantity           48620 non-null  int64  \n",
      " 4   order_date         48620 non-null  object \n",
      " 5   order_time         48620 non-null  object \n",
      " 6   unit_price         48620 non-null  float64\n",
      " 7   total_price        48613 non-null  float64\n",
      " 8   pizza_size         48620 non-null  object \n",
      " 9   pizza_category     48597 non-null  object \n",
      " 10  pizza_ingredients  48607 non-null  object \n",
      " 11  pizza_name         48613 non-null  object \n",
      "dtypes: float64(2), int64(3), object(7)\n",
      "memory usage: 4.5+ MB\n"
     ]
    }
   ],
   "source": [
    "df.info()"
   ]
  },
  {
   "cell_type": "code",
   "execution_count": 21,
   "metadata": {},
   "outputs": [
    {
     "data": {
      "text/plain": [
       "pizza_id              0\n",
       "order_id              0\n",
       "pizza_name_id        16\n",
       "quantity              0\n",
       "order_date            0\n",
       "order_time            0\n",
       "unit_price            0\n",
       "total_price           7\n",
       "pizza_size            0\n",
       "pizza_category       23\n",
       "pizza_ingredients    13\n",
       "pizza_name            7\n",
       "dtype: int64"
      ]
     },
     "execution_count": 21,
     "metadata": {},
     "output_type": "execute_result"
    }
   ],
   "source": [
    "df.isnull().sum()"
   ]
  },
  {
   "cell_type": "code",
   "execution_count": 156,
   "metadata": {},
   "outputs": [],
   "source": [
    "df_cleaned = df.dropna(subset=['pizza_name_id', 'pizza_category', 'pizza_ingredients', 'pizza_name','total_price'], axis=0)"
   ]
  },
  {
   "cell_type": "code",
   "execution_count": 157,
   "metadata": {},
   "outputs": [],
   "source": [
    "df_cleaned=df_cleaned.drop(columns=['order_id','pizza_id'])"
   ]
  },
  {
   "cell_type": "code",
   "execution_count": 158,
   "metadata": {},
   "outputs": [
    {
     "name": "stdout",
     "output_type": "stream",
     "text": [
      "<class 'pandas.core.frame.DataFrame'>\n",
      "Index: 48554 entries, 0 to 48619\n",
      "Data columns (total 10 columns):\n",
      " #   Column             Non-Null Count  Dtype  \n",
      "---  ------             --------------  -----  \n",
      " 0   pizza_name_id      48554 non-null  object \n",
      " 1   quantity           48554 non-null  int64  \n",
      " 2   order_date         48554 non-null  object \n",
      " 3   order_time         48554 non-null  object \n",
      " 4   unit_price         48554 non-null  float64\n",
      " 5   total_price        48554 non-null  float64\n",
      " 6   pizza_size         48554 non-null  object \n",
      " 7   pizza_category     48554 non-null  object \n",
      " 8   pizza_ingredients  48554 non-null  object \n",
      " 9   pizza_name         48554 non-null  object \n",
      "dtypes: float64(2), int64(1), object(7)\n",
      "memory usage: 4.1+ MB\n"
     ]
    }
   ],
   "source": [
    "df_cleaned.info()"
   ]
  },
  {
   "cell_type": "code",
   "execution_count": 159,
   "metadata": {},
   "outputs": [
    {
     "data": {
      "text/plain": [
       "array(['1/1/2015', '2/1/2015', '3/1/2015', '4/1/2015', '5/1/2015',\n",
       "       '6/1/2015', '7/1/2015', '8/1/2015', '9/1/2015', '10/1/2015',\n",
       "       '11/1/2015', '12/1/2015', '13-01-2015', '14-01-2015', '15-01-2015',\n",
       "       '16-01-2015', '17-01-2015', '18-01-2015', '19-01-2015',\n",
       "       '20-01-2015', '21-01-2015', '22-01-2015', '23-01-2015',\n",
       "       '24-01-2015', '25-01-2015', '26-01-2015', '27-01-2015',\n",
       "       '28-01-2015', '29-01-2015', '30-01-2015', '31-01-2015', '1/2/2015',\n",
       "       '2/2/2015', '3/2/2015', '4/2/2015', '5/2/2015', '6/2/2015',\n",
       "       '7/2/2015', '8/2/2015', '9/2/2015', '10/2/2015', '11/2/2015',\n",
       "       '12/2/2015', '13-02-2015', '14-02-2015', '15-02-2015',\n",
       "       '16-02-2015', '17-02-2015', '18-02-2015', '19-02-2015',\n",
       "       '20-02-2015', '21-02-2015', '22-02-2015', '23-02-2015',\n",
       "       '24-02-2015', '25-02-2015', '26-02-2015', '27-02-2015',\n",
       "       '28-02-2015', '1/3/2015', '2/3/2015', '3/3/2015', '4/3/2015',\n",
       "       '5/3/2015', '6/3/2015', '7/3/2015', '8/3/2015', '9/3/2015',\n",
       "       '10/3/2015', '11/3/2015', '12/3/2015', '13-03-2015', '14-03-2015',\n",
       "       '15-03-2015', '16-03-2015', '17-03-2015', '18-03-2015',\n",
       "       '19-03-2015', '20-03-2015', '21-03-2015', '22-03-2015',\n",
       "       '23-03-2015', '24-03-2015', '25-03-2015', '26-03-2015',\n",
       "       '27-03-2015', '28-03-2015', '29-03-2015', '30-03-2015',\n",
       "       '31-03-2015', '1/4/2015', '2/4/2015', '3/4/2015', '4/4/2015',\n",
       "       '5/4/2015', '6/4/2015', '7/4/2015', '8/4/2015', '9/4/2015',\n",
       "       '10/4/2015', '11/4/2015', '12/4/2015', '13-04-2015', '14-04-2015',\n",
       "       '15-04-2015', '16-04-2015', '17-04-2015', '18-04-2015',\n",
       "       '19-04-2015', '20-04-2015', '21-04-2015', '22-04-2015',\n",
       "       '23-04-2015', '24-04-2015', '25-04-2015', '26-04-2015',\n",
       "       '27-04-2015', '28-04-2015', '29-04-2015', '30-04-2015', '1/5/2015',\n",
       "       '2/5/2015', '3/5/2015', '4/5/2015', '5/5/2015', '6/5/2015',\n",
       "       '7/5/2015', '8/5/2015', '9/5/2015', '10/5/2015', '11/5/2015',\n",
       "       '12/5/2015', '13-05-2015', '14-05-2015', '15-05-2015',\n",
       "       '16-05-2015', '17-05-2015', '18-05-2015', '19-05-2015',\n",
       "       '20-05-2015', '21-05-2015', '22-05-2015', '23-05-2015',\n",
       "       '24-05-2015', '25-05-2015', '26-05-2015', '27-05-2015',\n",
       "       '28-05-2015', '29-05-2015', '30-05-2015', '31-05-2015', '1/6/2015',\n",
       "       '2/6/2015', '3/6/2015', '4/6/2015', '5/6/2015', '6/6/2015',\n",
       "       '7/6/2015', '8/6/2015', '9/6/2015', '10/6/2015', '11/6/2015',\n",
       "       '12/6/2015', '13-06-2015', '14-06-2015', '15-06-2015',\n",
       "       '16-06-2015', '17-06-2015', '18-06-2015', '19-06-2015',\n",
       "       '20-06-2015', '21-06-2015', '22-06-2015', '23-06-2015',\n",
       "       '24-06-2015', '25-06-2015', '26-06-2015', '27-06-2015',\n",
       "       '28-06-2015', '29-06-2015', '30-06-2015', '1/7/2015', '2/7/2015',\n",
       "       '3/7/2015', '4/7/2015', '5/7/2015', '6/7/2015', '7/7/2015',\n",
       "       '8/7/2015', '9/7/2015', '10/7/2015', '11/7/2015', '12/7/2015',\n",
       "       '13-07-2015', '14-07-2015', '15-07-2015', '16-07-2015',\n",
       "       '17-07-2015', '18-07-2015', '19-07-2015', '20-07-2015',\n",
       "       '21-07-2015', '22-07-2015', '23-07-2015', '24-07-2015',\n",
       "       '25-07-2015', '26-07-2015', '27-07-2015', '28-07-2015',\n",
       "       '29-07-2015', '30-07-2015', '31-07-2015', '1/8/2015', '2/8/2015',\n",
       "       '3/8/2015', '4/8/2015', '5/8/2015', '6/8/2015', '7/8/2015',\n",
       "       '8/8/2015', '9/8/2015', '10/8/2015', '11/8/2015', '12/8/2015',\n",
       "       '13-08-2015', '14-08-2015', '15-08-2015', '16-08-2015',\n",
       "       '17-08-2015', '18-08-2015', '19-08-2015', '20-08-2015',\n",
       "       '21-08-2015', '22-08-2015', '23-08-2015', '24-08-2015',\n",
       "       '25-08-2015', '26-08-2015', '27-08-2015', '28-08-2015',\n",
       "       '29-08-2015', '30-08-2015', '31-08-2015', '1/9/2015', '2/9/2015',\n",
       "       '3/9/2015', '4/9/2015', '5/9/2015', '6/9/2015', '7/9/2015',\n",
       "       '8/9/2015', '9/9/2015', '10/9/2015', '11/9/2015', '12/9/2015',\n",
       "       '13-09-2015', '14-09-2015', '15-09-2015', '16-09-2015',\n",
       "       '17-09-2015', '18-09-2015', '19-09-2015', '20-09-2015',\n",
       "       '21-09-2015', '22-09-2015', '23-09-2015', '26-09-2015',\n",
       "       '27-09-2015', '28-09-2015', '29-09-2015', '30-09-2015',\n",
       "       '1/10/2015', '2/10/2015', '3/10/2015', '4/10/2015', '6/10/2015',\n",
       "       '7/10/2015', '8/10/2015', '9/10/2015', '10/10/2015', '11/10/2015',\n",
       "       '13-10-2015', '14-10-2015', '15-10-2015', '16-10-2015',\n",
       "       '17-10-2015', '18-10-2015', '20-10-2015', '21-10-2015',\n",
       "       '22-10-2015', '23-10-2015', '24-10-2015', '25-10-2015',\n",
       "       '27-10-2015', '28-10-2015', '29-10-2015', '30-10-2015',\n",
       "       '31-10-2015', '1/11/2015', '2/11/2015', '3/11/2015', '4/11/2015',\n",
       "       '5/11/2015', '6/11/2015', '7/11/2015', '8/11/2015', '9/11/2015',\n",
       "       '10/11/2015', '11/11/2015', '12/11/2015', '13-11-2015',\n",
       "       '14-11-2015', '15-11-2015', '16-11-2015', '17-11-2015',\n",
       "       '18-11-2015', '19-11-2015', '20-11-2015', '21-11-2015',\n",
       "       '22-11-2015', '23-11-2015', '24-11-2015', '25-11-2015',\n",
       "       '26-11-2015', '27-11-2015', '28-11-2015', '29-11-2015',\n",
       "       '30-11-2015', '1/12/2015', '2/12/2015', '3/12/2015', '4/12/2015',\n",
       "       '5/12/2015', '6/12/2015', '7/12/2015', '8/12/2015', '9/12/2015',\n",
       "       '10/12/2015', '11/12/2015', '12/12/2015', '13-12-2015',\n",
       "       '14-12-2015', '15-12-2015', '16-12-2015', '17-12-2015',\n",
       "       '18-12-2015', '19-12-2015', '20-12-2015', '21-12-2015',\n",
       "       '22-12-2015', '23-12-2015', '24-12-2015', '26-12-2015',\n",
       "       '27-12-2015', '28-12-2015', '29-12-2015', '30-12-2015',\n",
       "       '31-12-2015'], dtype=object)"
      ]
     },
     "execution_count": 159,
     "metadata": {},
     "output_type": "execute_result"
    }
   ],
   "source": [
    "df_cleaned['order_date'].unique()"
   ]
  },
  {
   "cell_type": "code",
   "execution_count": 160,
   "metadata": {},
   "outputs": [],
   "source": [
    "df_cleaned['order_date'] = pd.to_datetime(df_cleaned['order_date'], format='%d-%m-%Y', errors='coerce').fillna(\n",
    "    pd.to_datetime(df_cleaned['order_date'], format='%m/%d/%Y', errors='coerce')\n",
    ")\n",
    "df_cleaned['order_time'] = pd.to_datetime(df_cleaned['order_time'], format='%H:%M:%S')"
   ]
  },
  {
   "cell_type": "code",
   "execution_count": 161,
   "metadata": {},
   "outputs": [],
   "source": [
    "df_cleaned['year'] = df_cleaned['order_date'].dt.year\n",
    "df_cleaned['month'] = df_cleaned['order_date'].dt.month\n",
    "df_cleaned['date'] = df_cleaned['order_date'].dt.day"
   ]
  },
  {
   "cell_type": "code",
   "execution_count": 162,
   "metadata": {},
   "outputs": [],
   "source": [
    "df_cleaned['order_time'] = df_cleaned['order_time'].dt.time"
   ]
  },
  {
   "cell_type": "code",
   "execution_count": 155,
   "metadata": {},
   "outputs": [
    {
     "data": {
      "text/html": [
       "<div>\n",
       "<style scoped>\n",
       "    .dataframe tbody tr th:only-of-type {\n",
       "        vertical-align: middle;\n",
       "    }\n",
       "\n",
       "    .dataframe tbody tr th {\n",
       "        vertical-align: top;\n",
       "    }\n",
       "\n",
       "    .dataframe thead th {\n",
       "        text-align: right;\n",
       "    }\n",
       "</style>\n",
       "<table border=\"1\" class=\"dataframe\">\n",
       "  <thead>\n",
       "    <tr style=\"text-align: right;\">\n",
       "      <th></th>\n",
       "      <th>quantity</th>\n",
       "      <th>order_date</th>\n",
       "      <th>order_time</th>\n",
       "      <th>unit_price</th>\n",
       "      <th>total_price</th>\n",
       "      <th>pizza_size</th>\n",
       "      <th>pizza_category</th>\n",
       "      <th>pizza_ingredients</th>\n",
       "      <th>pizza_name</th>\n",
       "      <th>year</th>\n",
       "      <th>month</th>\n",
       "      <th>date</th>\n",
       "    </tr>\n",
       "  </thead>\n",
       "  <tbody>\n",
       "    <tr>\n",
       "      <th>0</th>\n",
       "      <td>1</td>\n",
       "      <td>2015-01-01</td>\n",
       "      <td>11:38:36</td>\n",
       "      <td>13.25</td>\n",
       "      <td>13.25</td>\n",
       "      <td>M</td>\n",
       "      <td>Classic</td>\n",
       "      <td>Sliced Ham, Pineapple, Mozzarella Cheese</td>\n",
       "      <td>The Hawaiian Pizza</td>\n",
       "      <td>2015</td>\n",
       "      <td>1</td>\n",
       "      <td>1</td>\n",
       "    </tr>\n",
       "    <tr>\n",
       "      <th>1</th>\n",
       "      <td>1</td>\n",
       "      <td>2015-01-01</td>\n",
       "      <td>11:57:40</td>\n",
       "      <td>16.00</td>\n",
       "      <td>16.00</td>\n",
       "      <td>M</td>\n",
       "      <td>Classic</td>\n",
       "      <td>Pepperoni, Mushrooms, Red Onions, Red Peppers,...</td>\n",
       "      <td>The Classic Deluxe Pizza</td>\n",
       "      <td>2015</td>\n",
       "      <td>1</td>\n",
       "      <td>1</td>\n",
       "    </tr>\n",
       "    <tr>\n",
       "      <th>2</th>\n",
       "      <td>1</td>\n",
       "      <td>2015-01-01</td>\n",
       "      <td>11:57:40</td>\n",
       "      <td>18.50</td>\n",
       "      <td>18.50</td>\n",
       "      <td>L</td>\n",
       "      <td>Veggie</td>\n",
       "      <td>Mozzarella Cheese, Provolone Cheese, Smoked Go...</td>\n",
       "      <td>The Five Cheese Pizza</td>\n",
       "      <td>2015</td>\n",
       "      <td>1</td>\n",
       "      <td>1</td>\n",
       "    </tr>\n",
       "    <tr>\n",
       "      <th>3</th>\n",
       "      <td>1</td>\n",
       "      <td>2015-01-01</td>\n",
       "      <td>11:57:40</td>\n",
       "      <td>20.75</td>\n",
       "      <td>20.75</td>\n",
       "      <td>L</td>\n",
       "      <td>Supreme</td>\n",
       "      <td>Calabrese Salami, Capocollo, Tomatoes, Red Oni...</td>\n",
       "      <td>The Italian Supreme Pizza</td>\n",
       "      <td>2015</td>\n",
       "      <td>1</td>\n",
       "      <td>1</td>\n",
       "    </tr>\n",
       "    <tr>\n",
       "      <th>4</th>\n",
       "      <td>1</td>\n",
       "      <td>2015-01-01</td>\n",
       "      <td>11:57:40</td>\n",
       "      <td>16.00</td>\n",
       "      <td>16.00</td>\n",
       "      <td>M</td>\n",
       "      <td>Veggie</td>\n",
       "      <td>Tomatoes, Red Peppers, Jalapeno Peppers, Red O...</td>\n",
       "      <td>The Mexicana Pizza</td>\n",
       "      <td>2015</td>\n",
       "      <td>1</td>\n",
       "      <td>1</td>\n",
       "    </tr>\n",
       "    <tr>\n",
       "      <th>5</th>\n",
       "      <td>1</td>\n",
       "      <td>2015-01-01</td>\n",
       "      <td>11:57:40</td>\n",
       "      <td>20.75</td>\n",
       "      <td>20.75</td>\n",
       "      <td>L</td>\n",
       "      <td>Chicken</td>\n",
       "      <td>Chicken, Pineapple, Tomatoes, Red Peppers, Tha...</td>\n",
       "      <td>The Thai Chicken Pizza</td>\n",
       "      <td>2015</td>\n",
       "      <td>1</td>\n",
       "      <td>1</td>\n",
       "    </tr>\n",
       "    <tr>\n",
       "      <th>6</th>\n",
       "      <td>1</td>\n",
       "      <td>2015-01-01</td>\n",
       "      <td>12:12:28</td>\n",
       "      <td>16.50</td>\n",
       "      <td>16.50</td>\n",
       "      <td>M</td>\n",
       "      <td>Supreme</td>\n",
       "      <td>Calabrese Salami, Capocollo, Tomatoes, Red Oni...</td>\n",
       "      <td>The Italian Supreme Pizza</td>\n",
       "      <td>2015</td>\n",
       "      <td>1</td>\n",
       "      <td>1</td>\n",
       "    </tr>\n",
       "    <tr>\n",
       "      <th>7</th>\n",
       "      <td>1</td>\n",
       "      <td>2015-01-01</td>\n",
       "      <td>12:12:28</td>\n",
       "      <td>20.75</td>\n",
       "      <td>20.75</td>\n",
       "      <td>L</td>\n",
       "      <td>Supreme</td>\n",
       "      <td>Prosciutto di San Daniele, Arugula, Mozzarella...</td>\n",
       "      <td>The Prosciutto and Arugula Pizza</td>\n",
       "      <td>2015</td>\n",
       "      <td>1</td>\n",
       "      <td>1</td>\n",
       "    </tr>\n",
       "    <tr>\n",
       "      <th>8</th>\n",
       "      <td>1</td>\n",
       "      <td>2015-01-01</td>\n",
       "      <td>12:16:31</td>\n",
       "      <td>16.50</td>\n",
       "      <td>16.50</td>\n",
       "      <td>M</td>\n",
       "      <td>Supreme</td>\n",
       "      <td>Calabrese Salami, Capocollo, Tomatoes, Red Oni...</td>\n",
       "      <td>The Italian Supreme Pizza</td>\n",
       "      <td>2015</td>\n",
       "      <td>1</td>\n",
       "      <td>1</td>\n",
       "    </tr>\n",
       "    <tr>\n",
       "      <th>9</th>\n",
       "      <td>1</td>\n",
       "      <td>2015-01-01</td>\n",
       "      <td>12:21:30</td>\n",
       "      <td>16.50</td>\n",
       "      <td>16.50</td>\n",
       "      <td>M</td>\n",
       "      <td>Supreme</td>\n",
       "      <td>Calabrese Salami, Capocollo, Tomatoes, Red Oni...</td>\n",
       "      <td>The Italian Supreme Pizza</td>\n",
       "      <td>2015</td>\n",
       "      <td>1</td>\n",
       "      <td>1</td>\n",
       "    </tr>\n",
       "  </tbody>\n",
       "</table>\n",
       "</div>"
      ],
      "text/plain": [
       "   quantity order_date order_time  unit_price  total_price pizza_size  \\\n",
       "0         1 2015-01-01   11:38:36       13.25        13.25          M   \n",
       "1         1 2015-01-01   11:57:40       16.00        16.00          M   \n",
       "2         1 2015-01-01   11:57:40       18.50        18.50          L   \n",
       "3         1 2015-01-01   11:57:40       20.75        20.75          L   \n",
       "4         1 2015-01-01   11:57:40       16.00        16.00          M   \n",
       "5         1 2015-01-01   11:57:40       20.75        20.75          L   \n",
       "6         1 2015-01-01   12:12:28       16.50        16.50          M   \n",
       "7         1 2015-01-01   12:12:28       20.75        20.75          L   \n",
       "8         1 2015-01-01   12:16:31       16.50        16.50          M   \n",
       "9         1 2015-01-01   12:21:30       16.50        16.50          M   \n",
       "\n",
       "  pizza_category                                  pizza_ingredients  \\\n",
       "0        Classic           Sliced Ham, Pineapple, Mozzarella Cheese   \n",
       "1        Classic  Pepperoni, Mushrooms, Red Onions, Red Peppers,...   \n",
       "2         Veggie  Mozzarella Cheese, Provolone Cheese, Smoked Go...   \n",
       "3        Supreme  Calabrese Salami, Capocollo, Tomatoes, Red Oni...   \n",
       "4         Veggie  Tomatoes, Red Peppers, Jalapeno Peppers, Red O...   \n",
       "5        Chicken  Chicken, Pineapple, Tomatoes, Red Peppers, Tha...   \n",
       "6        Supreme  Calabrese Salami, Capocollo, Tomatoes, Red Oni...   \n",
       "7        Supreme  Prosciutto di San Daniele, Arugula, Mozzarella...   \n",
       "8        Supreme  Calabrese Salami, Capocollo, Tomatoes, Red Oni...   \n",
       "9        Supreme  Calabrese Salami, Capocollo, Tomatoes, Red Oni...   \n",
       "\n",
       "                         pizza_name  year  month  date  \n",
       "0                The Hawaiian Pizza  2015      1     1  \n",
       "1          The Classic Deluxe Pizza  2015      1     1  \n",
       "2             The Five Cheese Pizza  2015      1     1  \n",
       "3         The Italian Supreme Pizza  2015      1     1  \n",
       "4                The Mexicana Pizza  2015      1     1  \n",
       "5            The Thai Chicken Pizza  2015      1     1  \n",
       "6         The Italian Supreme Pizza  2015      1     1  \n",
       "7  The Prosciutto and Arugula Pizza  2015      1     1  \n",
       "8         The Italian Supreme Pizza  2015      1     1  \n",
       "9         The Italian Supreme Pizza  2015      1     1  "
      ]
     },
     "execution_count": 155,
     "metadata": {},
     "output_type": "execute_result"
    }
   ],
   "source": [
    "df_cleaned.head(10)"
   ]
  },
  {
   "cell_type": "code",
   "execution_count": 163,
   "metadata": {},
   "outputs": [
    {
     "name": "stdout",
     "output_type": "stream",
     "text": [
      "<class 'pandas.core.frame.DataFrame'>\n",
      "Index: 48554 entries, 0 to 48619\n",
      "Data columns (total 13 columns):\n",
      " #   Column             Non-Null Count  Dtype         \n",
      "---  ------             --------------  -----         \n",
      " 0   pizza_name_id      48554 non-null  object        \n",
      " 1   quantity           48554 non-null  int64         \n",
      " 2   order_date         48554 non-null  datetime64[ns]\n",
      " 3   order_time         48554 non-null  object        \n",
      " 4   unit_price         48554 non-null  float64       \n",
      " 5   total_price        48554 non-null  float64       \n",
      " 6   pizza_size         48554 non-null  object        \n",
      " 7   pizza_category     48554 non-null  object        \n",
      " 8   pizza_ingredients  48554 non-null  object        \n",
      " 9   pizza_name         48554 non-null  object        \n",
      " 10  year               48554 non-null  int32         \n",
      " 11  month              48554 non-null  int32         \n",
      " 12  date               48554 non-null  int32         \n",
      "dtypes: datetime64[ns](1), float64(2), int32(3), int64(1), object(6)\n",
      "memory usage: 4.6+ MB\n"
     ]
    }
   ],
   "source": [
    "df_cleaned.info()"
   ]
  },
  {
   "cell_type": "code",
   "execution_count": 89,
   "metadata": {},
   "outputs": [
    {
     "data": {
      "text/html": [
       "<div>\n",
       "<style scoped>\n",
       "    .dataframe tbody tr th:only-of-type {\n",
       "        vertical-align: middle;\n",
       "    }\n",
       "\n",
       "    .dataframe tbody tr th {\n",
       "        vertical-align: top;\n",
       "    }\n",
       "\n",
       "    .dataframe thead th {\n",
       "        text-align: right;\n",
       "    }\n",
       "</style>\n",
       "<table border=\"1\" class=\"dataframe\">\n",
       "  <thead>\n",
       "    <tr style=\"text-align: right;\">\n",
       "      <th></th>\n",
       "      <th>date</th>\n",
       "      <th>quantity</th>\n",
       "    </tr>\n",
       "  </thead>\n",
       "  <tbody>\n",
       "    <tr>\n",
       "      <th>0</th>\n",
       "      <td>1</td>\n",
       "      <td>1616</td>\n",
       "    </tr>\n",
       "    <tr>\n",
       "      <th>1</th>\n",
       "      <td>2</td>\n",
       "      <td>1724</td>\n",
       "    </tr>\n",
       "    <tr>\n",
       "      <th>2</th>\n",
       "      <td>3</td>\n",
       "      <td>1630</td>\n",
       "    </tr>\n",
       "    <tr>\n",
       "      <th>3</th>\n",
       "      <td>4</td>\n",
       "      <td>1695</td>\n",
       "    </tr>\n",
       "    <tr>\n",
       "      <th>4</th>\n",
       "      <td>5</td>\n",
       "      <td>1691</td>\n",
       "    </tr>\n",
       "  </tbody>\n",
       "</table>\n",
       "</div>"
      ],
      "text/plain": [
       "   date  quantity\n",
       "0     1      1616\n",
       "1     2      1724\n",
       "2     3      1630\n",
       "3     4      1695\n",
       "4     5      1691"
      ]
     },
     "execution_count": 89,
     "metadata": {},
     "output_type": "execute_result"
    }
   ],
   "source": [
    "df2 = df_cleaned.groupby('date')['quantity'].sum().reset_index()\n",
    "df2.head()"
   ]
  },
  {
   "cell_type": "code",
   "execution_count": 91,
   "metadata": {},
   "outputs": [
    {
     "data": {
      "text/html": [
       "<div>\n",
       "<style scoped>\n",
       "    .dataframe tbody tr th:only-of-type {\n",
       "        vertical-align: middle;\n",
       "    }\n",
       "\n",
       "    .dataframe tbody tr th {\n",
       "        vertical-align: top;\n",
       "    }\n",
       "\n",
       "    .dataframe thead th {\n",
       "        text-align: right;\n",
       "    }\n",
       "</style>\n",
       "<table border=\"1\" class=\"dataframe\">\n",
       "  <thead>\n",
       "    <tr style=\"text-align: right;\">\n",
       "      <th></th>\n",
       "      <th>month</th>\n",
       "      <th>quantity</th>\n",
       "    </tr>\n",
       "  </thead>\n",
       "  <tbody>\n",
       "    <tr>\n",
       "      <th>0</th>\n",
       "      <td>1</td>\n",
       "      <td>4355</td>\n",
       "    </tr>\n",
       "    <tr>\n",
       "      <th>1</th>\n",
       "      <td>2</td>\n",
       "      <td>3888</td>\n",
       "    </tr>\n",
       "    <tr>\n",
       "      <th>2</th>\n",
       "      <td>3</td>\n",
       "      <td>4317</td>\n",
       "    </tr>\n",
       "    <tr>\n",
       "      <th>3</th>\n",
       "      <td>4</td>\n",
       "      <td>4245</td>\n",
       "    </tr>\n",
       "    <tr>\n",
       "      <th>4</th>\n",
       "      <td>5</td>\n",
       "      <td>4064</td>\n",
       "    </tr>\n",
       "  </tbody>\n",
       "</table>\n",
       "</div>"
      ],
      "text/plain": [
       "   month  quantity\n",
       "0      1      4355\n",
       "1      2      3888\n",
       "2      3      4317\n",
       "3      4      4245\n",
       "4      5      4064"
      ]
     },
     "execution_count": 91,
     "metadata": {},
     "output_type": "execute_result"
    }
   ],
   "source": [
    "df3 = df_cleaned.groupby('month')['quantity'].sum().reset_index()\n",
    "df3.head()"
   ]
  },
  {
   "cell_type": "markdown",
   "metadata": {},
   "source": [
    "EDA"
   ]
  },
  {
   "cell_type": "code",
   "execution_count": 100,
   "metadata": {},
   "outputs": [
    {
     "data": {
      "image/png": "[encoded data removed]",
      "text/plain": [
       "<Figure size 640x480 with 1 Axes>"
      ]
     },
     "metadata": {},
     "output_type": "display_data"
    }
   ],
   "source": [
    "\n",
    "plt.plot(df2['date'], df2['quantity'], marker='o', linestyle=':', color='y', label='Quantity per Day')\n",
    "plt.xlabel('Date') \n",
    "plt.ylabel('Quantity') \n",
    "plt.title('History Analysis')  \n",
    "plt.legend()\n",
    "plt.show()\n"
   ]
  },
  {
   "cell_type": "code",
   "execution_count": 108,
   "metadata": {},
   "outputs": [
    {
     "data": {
      "text/plain": [
       "Text(0.5, 1.0, 'history als')"
      ]
     },
     "execution_count": 108,
     "metadata": {},
     "output_type": "execute_result"
    },
    {
     "data": {
      "image/png": "[encoded data removed]",
      "text/plain": [
       "<Figure size 640x480 with 1 Axes>"
      ]
     },
     "metadata": {},
     "output_type": "display_data"
    }
   ],
   "source": [
    "plt.plot(df3['month'],df3['quantity'],marker='o', linestyle=':')\n",
    "# Add labels and title\n",
    "for x, y in zip(df3['month'], df3['quantity']):\n",
    "    plt.text(x, y,f'{y}', fontsize=6, ha='center', va='bottom') \n",
    "plt.xlabel('month')\n",
    "plt.ylabel('quantity')\n",
    "plt.title('history als')"
   ]
  },
  {
   "cell_type": "code",
   "execution_count": null,
   "metadata": {},
   "outputs": [
    {
     "data": {
      "image/png": "[encoded data removed]",
      "text/plain": [
       "<Figure size 1000x600 with 1 Axes>"
      ]
     },
     "metadata": {},
     "output_type": "display_data"
    }
   ],
   "source": [
    "\n",
    "plt.figure(figsize=(10, 6))\n",
    "sns.lineplot(data=df_cleaned, x='pizza_category', y=df3['quantity'])\n",
    "plt.title('Sales Distribution by Pizza Category')\n",
    "plt.xlabel('Pizza Category')\n",
    "plt.ylabel('Quantity Sold')\n",
    "plt.show()"
   ]
  },
  {
   "cell_type": "markdown",
   "metadata": {},
   "source": [
    "INGRADIENTS"
   ]
  },
  {
   "cell_type": "code",
   "execution_count": 168,
   "metadata": {},
   "outputs": [],
   "source": [
    "ingredients_data = pd.read_csv(r'C:/Users/HP/Desktop/MY PROJECTS/MINI PROJECT/Pizza_ingredients - Pizza_ingredients.csv')"
   ]
  },
  {
   "cell_type": "code",
   "execution_count": 169,
   "metadata": {},
   "outputs": [
    {
     "data": {
      "text/html": [
       "<div>\n",
       "<style scoped>\n",
       "    .dataframe tbody tr th:only-of-type {\n",
       "        vertical-align: middle;\n",
       "    }\n",
       "\n",
       "    .dataframe tbody tr th {\n",
       "        vertical-align: top;\n",
       "    }\n",
       "\n",
       "    .dataframe thead th {\n",
       "        text-align: right;\n",
       "    }\n",
       "</style>\n",
       "<table border=\"1\" class=\"dataframe\">\n",
       "  <thead>\n",
       "    <tr style=\"text-align: right;\">\n",
       "      <th></th>\n",
       "      <th>pizza_name_id</th>\n",
       "      <th>pizza_name</th>\n",
       "      <th>pizza_ingredients</th>\n",
       "      <th>Items_Qty_In_Grams</th>\n",
       "    </tr>\n",
       "  </thead>\n",
       "  <tbody>\n",
       "    <tr>\n",
       "      <th>0</th>\n",
       "      <td>bbq_ckn_l</td>\n",
       "      <td>The Barbecue Chicken Pizza</td>\n",
       "      <td>Barbecued Chicken</td>\n",
       "      <td>40.0</td>\n",
       "    </tr>\n",
       "    <tr>\n",
       "      <th>1</th>\n",
       "      <td>bbq_ckn_l</td>\n",
       "      <td>The Barbecue Chicken Pizza</td>\n",
       "      <td>Red Peppers</td>\n",
       "      <td>15.0</td>\n",
       "    </tr>\n",
       "    <tr>\n",
       "      <th>2</th>\n",
       "      <td>bbq_ckn_l</td>\n",
       "      <td>The Barbecue Chicken Pizza</td>\n",
       "      <td>Green Peppers</td>\n",
       "      <td>20.0</td>\n",
       "    </tr>\n",
       "    <tr>\n",
       "      <th>3</th>\n",
       "      <td>bbq_ckn_l</td>\n",
       "      <td>The Barbecue Chicken Pizza</td>\n",
       "      <td>Tomatoes</td>\n",
       "      <td>30.0</td>\n",
       "    </tr>\n",
       "    <tr>\n",
       "      <th>4</th>\n",
       "      <td>bbq_ckn_l</td>\n",
       "      <td>The Barbecue Chicken Pizza</td>\n",
       "      <td>Red Onions</td>\n",
       "      <td>60.0</td>\n",
       "    </tr>\n",
       "    <tr>\n",
       "      <th>5</th>\n",
       "      <td>bbq_ckn_l</td>\n",
       "      <td>The Barbecue Chicken Pizza</td>\n",
       "      <td>Barbecue Sauce</td>\n",
       "      <td>15.0</td>\n",
       "    </tr>\n",
       "    <tr>\n",
       "      <th>6</th>\n",
       "      <td>bbq_ckn_m</td>\n",
       "      <td>The Barbecue Chicken Pizza</td>\n",
       "      <td>Barbecued Chicken</td>\n",
       "      <td>30.0</td>\n",
       "    </tr>\n",
       "    <tr>\n",
       "      <th>7</th>\n",
       "      <td>bbq_ckn_m</td>\n",
       "      <td>The Barbecue Chicken Pizza</td>\n",
       "      <td>Red Peppers</td>\n",
       "      <td>10.0</td>\n",
       "    </tr>\n",
       "    <tr>\n",
       "      <th>8</th>\n",
       "      <td>bbq_ckn_m</td>\n",
       "      <td>The Barbecue Chicken Pizza</td>\n",
       "      <td>Green Peppers</td>\n",
       "      <td>15.0</td>\n",
       "    </tr>\n",
       "    <tr>\n",
       "      <th>9</th>\n",
       "      <td>bbq_ckn_m</td>\n",
       "      <td>The Barbecue Chicken Pizza</td>\n",
       "      <td>Tomatoes</td>\n",
       "      <td>20.0</td>\n",
       "    </tr>\n",
       "  </tbody>\n",
       "</table>\n",
       "</div>"
      ],
      "text/plain": [
       "  pizza_name_id                  pizza_name  pizza_ingredients  \\\n",
       "0     bbq_ckn_l  The Barbecue Chicken Pizza  Barbecued Chicken   \n",
       "1     bbq_ckn_l  The Barbecue Chicken Pizza        Red Peppers   \n",
       "2     bbq_ckn_l  The Barbecue Chicken Pizza      Green Peppers   \n",
       "3     bbq_ckn_l  The Barbecue Chicken Pizza           Tomatoes   \n",
       "4     bbq_ckn_l  The Barbecue Chicken Pizza         Red Onions   \n",
       "5     bbq_ckn_l  The Barbecue Chicken Pizza     Barbecue Sauce   \n",
       "6     bbq_ckn_m  The Barbecue Chicken Pizza  Barbecued Chicken   \n",
       "7     bbq_ckn_m  The Barbecue Chicken Pizza        Red Peppers   \n",
       "8     bbq_ckn_m  The Barbecue Chicken Pizza      Green Peppers   \n",
       "9     bbq_ckn_m  The Barbecue Chicken Pizza           Tomatoes   \n",
       "\n",
       "   Items_Qty_In_Grams  \n",
       "0                40.0  \n",
       "1                15.0  \n",
       "2                20.0  \n",
       "3                30.0  \n",
       "4                60.0  \n",
       "5                15.0  \n",
       "6                30.0  \n",
       "7                10.0  \n",
       "8                15.0  \n",
       "9                20.0  "
      ]
     },
     "execution_count": 169,
     "metadata": {},
     "output_type": "execute_result"
    }
   ],
   "source": [
    "ingredients_data.head(10)"
   ]
  },
  {
   "cell_type": "code",
   "execution_count": 170,
   "metadata": {},
   "outputs": [],
   "source": [
    "ingredients_data.drop_duplicates(inplace=True)"
   ]
  },
  {
   "cell_type": "code",
   "execution_count": 186,
   "metadata": {},
   "outputs": [
    {
     "name": "stdout",
     "output_type": "stream",
     "text": [
      "pizza_name_id         0\n",
      "pizza_name            0\n",
      "pizza_ingredients     0\n",
      "Items_Qty_In_Grams    0\n",
      "dtype: int64\n"
     ]
    }
   ],
   "source": [
    "print(ingredients_data.isnull().sum())"
   ]
  },
  {
   "cell_type": "code",
   "execution_count": 173,
   "metadata": {},
   "outputs": [
    {
     "data": {
      "text/plain": [
       "<bound method Series.unique of 0      Barbecued Chicken\n",
       "1            Red Peppers\n",
       "2          Green Peppers\n",
       "3               Tomatoes\n",
       "4             Red Onions\n",
       "             ...        \n",
       "513        Green Peppers\n",
       "514           Red Onions\n",
       "515             Zucchini\n",
       "516              Spinach\n",
       "517               Garlic\n",
       "Name: pizza_ingredients, Length: 518, dtype: object>"
      ]
     },
     "execution_count": 173,
     "metadata": {},
     "output_type": "execute_result"
    }
   ],
   "source": [
    "ingredients_data['pizza_ingredients'].unique"
   ]
  },
  {
   "cell_type": "code",
   "execution_count": 174,
   "metadata": {},
   "outputs": [],
   "source": [
    "ingredients_data['Items_Qty_In_Grams'].interpolate(method='linear', inplace=True)\n"
   ]
  },
  {
   "cell_type": "code",
   "execution_count": null,
   "metadata": {},
   "outputs": [
    {
     "name": "stdout",
     "output_type": "stream",
     "text": [
      "Next week's forecasted sales: 2016-01-10    871.413388\n",
      "2016-01-17    767.668443\n",
      "2016-01-24    688.069738\n",
      "2016-01-31    831.365366\n",
      "2016-02-07    763.325170\n",
      "2016-02-14    647.463213\n",
      "2016-02-21    788.409586\n",
      "Freq: W-SUN, Name: predicted_mean, dtype: float64\n"
     ]
    }
   ],
   "source": [
    "from statsmodels.tsa.arima.model import ARIMA\n",
    "\n",
    "# Aggregate sales by week for prediction\n",
    "weekly_sales = df_cleaned.resample('W', on='order_date')['quantity'].sum()\n",
    "\n",
    "# Fit ARIMA model\n",
    "model = ARIMA(weekly_sales, order=(5, 1, 0))  \n",
    "model_fit = model.fit()\n",
    "\n",
    "# Forecast next 7 days (next week)\n",
    "forecast = model_fit.forecast(steps=7)\n",
    "print(f\"Next week's forecasted sales: {forecast}\")\n"
   ]
  },
  {
   "cell_type": "code",
   "execution_count": 183,
   "metadata": {},
   "outputs": [],
   "source": [
    "# Merge sales with ingredients data based on pizza type\n",
    "merged_data = pd.merge(df_cleaned, ingredients_data, on='pizza_name_id')\n",
    "\n"
   ]
  },
  {
   "cell_type": "code",
   "execution_count": 201,
   "metadata": {},
   "outputs": [],
   "source": [
    "merged_data=merged_data.drop(columns=['pizza_ingredients_x','pizza_name_x'],axis=1)"
   ]
  },
  {
   "cell_type": "code",
   "execution_count": 212,
   "metadata": {},
   "outputs": [
    {
     "name": "stdout",
     "output_type": "stream",
     "text": [
      "<class 'pandas.core.frame.DataFrame'>\n",
      "RangeIndex: 267224 entries, 0 to 267223\n",
      "Data columns (total 14 columns):\n",
      " #   Column               Non-Null Count   Dtype         \n",
      "---  ------               --------------   -----         \n",
      " 0   pizza_name_id        267224 non-null  object        \n",
      " 1   quantity             267224 non-null  int64         \n",
      " 2   order_date           267224 non-null  datetime64[ns]\n",
      " 3   order_time           267224 non-null  object        \n",
      " 4   unit_price           267224 non-null  float64       \n",
      " 5   total_price          267224 non-null  float64       \n",
      " 6   pizza_size           267224 non-null  object        \n",
      " 7   pizza_category       267224 non-null  object        \n",
      " 8   year                 267224 non-null  int32         \n",
      " 9   month                267224 non-null  int32         \n",
      " 10  date                 267224 non-null  int32         \n",
      " 11  pizza_name_y         267224 non-null  object        \n",
      " 12  pizza_ingredients_y  267224 non-null  object        \n",
      " 13  Items_Qty_In_Grams   267224 non-null  float64       \n",
      "dtypes: datetime64[ns](1), float64(3), int32(3), int64(1), object(6)\n",
      "memory usage: 25.5+ MB\n"
     ]
    }
   ],
   "source": [
    "merged_data.info()"
   ]
  },
  {
   "cell_type": "code",
   "execution_count": 231,
   "metadata": {},
   "outputs": [
    {
     "name": "stdout",
     "output_type": "stream",
     "text": [
      "            Ingredient  Forecasted_Ingredient_Required\n",
      "0         ?duja Salami                      131.260955\n",
      "1        Alfredo Sauce                       48.750869\n",
      "2            Anchovies                      135.724852\n",
      "3           Artichokes                      403.366644\n",
      "4              Arugula                       46.734916\n",
      "5        Asiago Cheese                      227.354727\n",
      "6                Bacon                     1605.594759\n",
      "7       Barbecue Sauce                       85.806010\n",
      "8    Barbecued Chicken                      249.306217\n",
      "9     Beef Chuck Roast                      475.668967\n",
      "10         Blue Cheese                      134.780874\n",
      "11   Brie Carre Cheese                       46.942911\n",
      "12    Calabrese Salami                      690.543983\n",
      "13           Capocollo                     2467.462768\n",
      "14  Caramelized Onions                       31.295274\n"
     ]
    }
   ],
   "source": [
    "\n",
    "next_week_forecasted_pizzas = 871.413388  # Forecasted sales for 2016-01-10\n",
    "\n",
    "# Calculate the total historical ingredient usage\n",
    "merged_data['total_ingredient_needed'] = merged_data['Items_Qty_In_Grams'] * merged_data['quantity']\n",
    "\n",
    "# Group by ingredients to sum up the total historical usage\n",
    "ingredient_requirements = (\n",
    "    merged_data.groupby('pizza_ingredients_y')['total_ingredient_needed']\n",
    "    .sum()\n",
    "    .reset_index()\n",
    ")\n",
    "ingredient_requirements.columns = ['Ingredient', 'Total_Ingredient_Historic']\n",
    "\n",
    "# Calculate total pizzas in historical data\n",
    "total_pizzas_historic = merged_data['quantity'].sum()\n",
    "\n",
    "# Calculate the scaling factor for the next week's forecast\n",
    "scaling_factor = next_week_forecasted_pizzas / total_pizzas_historic\n",
    "\n",
    "# Forecast ingredient requirements for the next week\n",
    "ingredient_requirements['Forecasted_Ingredient_Required'] = (\n",
    "    ingredient_requirements['Total_Ingredient_Historic'] * scaling_factor\n",
    ")\n",
    "\n",
    "# Filter only the required columns\n",
    "next_week_ingredient_forecast = ingredient_requirements[['Ingredient', 'Forecasted_Ingredient_Required']]\n",
    "\n",
    "# Display the result\n",
    "print(next_week_ingredient_forecast.head(15))"
   ]
  },
  {
   "cell_type": "code",
   "execution_count": 249,
   "metadata": {},
   "outputs": [
    {
     "name": "stdout",
     "output_type": "stream",
     "text": [
      "838\n"
     ]
    },
    {
     "name": "stderr",
     "output_type": "stream",
     "text": [
      "C:\\Users\\HP\\AppData\\Local\\Temp\\ipykernel_2624\\2614504691.py:1: FutureWarning: Series.__getitem__ treating keys as positions is deprecated. In a future version, integer keys will always be treated as labels (consistent with DataFrame behavior). To access a value by position, use `ser.iloc[pos]`\n",
      "  total_pizzas_in_week = weekly_sales[-4]\n"
     ]
    }
   ],
   "source": [
    "total_pizzas_in_week = weekly_sales[-4]\n",
    "print(total_pizzas_in_week)"
   ]
  }
 ],
 "metadata": {
  "kernelspec": {
   "display_name": "Python 3",
   "language": "python",
   "name": "python3"
  },
  "language_info": {
   "codemirror_mode": {
    "name": "ipython",
    "version": 3
   },
   "file_extension": ".py",
   "mimetype": "text/x-python",
   "name": "python",
   "nbconvert_exporter": "python",
   "pygments_lexer": "ipython3",
   "version": "3.11.9"
  }
 },
 "nbformat": 4,
 "nbformat_minor": 2
}
